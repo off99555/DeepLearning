{
 "cells": [
  {
   "cell_type": "code",
   "execution_count": 1,
   "metadata": {
    "collapsed": false,
    "scrolled": true
   },
   "outputs": [
    {
     "name": "stdout",
     "output_type": "stream",
     "text": [
      "Extracting MNIST_data/train-images-idx3-ubyte.gz\n",
      "Extracting MNIST_data/train-labels-idx1-ubyte.gz\n",
      "Extracting MNIST_data/t10k-images-idx3-ubyte.gz\n",
      "Extracting MNIST_data/t10k-labels-idx1-ubyte.gz\n",
      "train: (55000, 784) test: (10000, 784) validation: (5000, 784)\n",
      "Logits: Tensor(\"add:0\", shape=(?, 10), dtype=float32)\n",
      "Training... Done.\n",
      "train_loss = 0.28861\n",
      "weight.mean() = 7.38937e-09 std = 0.130132\n",
      "bias.mean() = 8.49366e-08 std = 0.73168\n",
      "Accuracy on Test Set: 0.919\n"
     ]
    }
   ],
   "source": [
    "%run test-mnist.py"
   ]
  },
  {
   "cell_type": "code",
   "execution_count": 2,
   "metadata": {
    "collapsed": false
   },
   "outputs": [
    {
     "name": "stdout",
     "output_type": "stream",
     "text": [
      "Extracting MNIST_data/train-images-idx3-ubyte.gz\n",
      "Extracting MNIST_data/train-labels-idx1-ubyte.gz\n",
      "Extracting MNIST_data/t10k-images-idx3-ubyte.gz\n",
      "Extracting MNIST_data/t10k-labels-idx1-ubyte.gz\n",
      "train: (55000, 784) test: (10000, 784) validation: (5000, 784)\n",
      "h_conv1 = Tensor(\"Relu:0\", shape=(?, 28, 28, 32), dtype=float32)\n",
      "h_pool1 = Tensor(\"MaxPool:0\", shape=(?, 14, 14, 32), dtype=float32)\n",
      "h_conv2 = Tensor(\"Relu_1:0\", shape=(?, 14, 14, 64), dtype=float32)\n",
      "h_pool2 = Tensor(\"MaxPool_1:0\", shape=(?, 7, 7, 64), dtype=float32)\n",
      "h_pool2_flat = Tensor(\"Reshape_1:0\", shape=(?, 3136), dtype=float32)\n",
      "h_fc1 = Tensor(\"Relu_2:0\", shape=(?, 150), dtype=float32)\n",
      "h_fc1_dropout = Tensor(\"dropout/mul_1:0\", shape=(?, 150), dtype=float32)\n",
      "Logits: Tensor(\"add_4:0\", shape=(?, 10), dtype=float32)\n",
      "Training...\n",
      "step 0, training accuracy 0.127273\n",
      "step 25, training accuracy 0.818182\n",
      "step 50, training accuracy 0.909091\n",
      "step 75, training accuracy 0.945455\n",
      "step 100, training accuracy 0.945455\n",
      "step 125, training accuracy 0.981818\n",
      "step 150, training accuracy 0.981818\n",
      "step 175, training accuracy 0.945455\n",
      "step 200, training accuracy 0.963636\n",
      "step 225, training accuracy 0.981818\n",
      "step 250, training accuracy 1\n",
      "step 275, training accuracy 0.927273\n",
      "step 300, training accuracy 1\n",
      "step 325, training accuracy 1\n",
      "step 350, training accuracy 0.963636\n",
      "step 375, training accuracy 0.963636\n",
      "step 400, training accuracy 0.981818\n",
      "step 425, training accuracy 0.927273\n",
      "step 450, training accuracy 1\n",
      "step 475, training accuracy 0.981818\n",
      "step 500, training accuracy 0.981818\n",
      "step 525, training accuracy 1\n",
      "step 550, training accuracy 1\n",
      "step 575, training accuracy 1\n",
      "step 600, training accuracy 0.963636\n",
      "step 625, training accuracy 0.945455\n",
      "step 650, training accuracy 0.981818\n",
      "step 675, training accuracy 0.963636\n",
      "step 700, training accuracy 0.963636\n",
      "step 725, training accuracy 1\n",
      "step 750, training accuracy 0.945455\n",
      "step 775, training accuracy 1\n",
      "step 800, training accuracy 0.927273\n",
      "step 825, training accuracy 0.909091\n",
      "step 850, training accuracy 0.981818\n",
      "step 875, training accuracy 0.945455\n",
      "step 900, training accuracy 0.963636\n",
      "step 925, training accuracy 0.927273\n",
      "step 950, training accuracy 0.981818\n",
      "step 975, training accuracy 1\n",
      "Done.\n",
      "Testing...\n",
      "Accuracy on Test Set: 0.9756\n"
     ]
    }
   ],
   "source": [
    "%run test-mnist-conv.py"
   ]
  }
 ],
 "metadata": {
  "kernelspec": {
   "display_name": "Python 3",
   "language": "python",
   "name": "python3"
  },
  "language_info": {
   "codemirror_mode": {
    "name": "ipython",
    "version": 3
   },
   "file_extension": ".py",
   "mimetype": "text/x-python",
   "name": "python",
   "nbconvert_exporter": "python",
   "pygments_lexer": "ipython3",
   "version": "3.5.2"
  },
  "widgets": {
   "state": {},
   "version": "1.1.2"
  }
 },
 "nbformat": 4,
 "nbformat_minor": 0
}
